{
 "cells": [
  {
   "cell_type": "markdown",
   "id": "6a5c3d2f",
   "metadata": {},
   "source": [
    "## Learning Numpy"
   ]
  },
  {
   "cell_type": "code",
   "execution_count": 2,
   "id": "2601e35b",
   "metadata": {},
   "outputs": [],
   "source": [
    "import numpy as np # importing numpy"
   ]
  },
  {
   "cell_type": "markdown",
   "id": "b5d784f3",
   "metadata": {},
   "source": [
    "### Getting in shape"
   ]
  },
  {
   "cell_type": "code",
   "execution_count": 4,
   "id": "3ebe51f8",
   "metadata": {},
   "outputs": [],
   "source": [
    "temperatures = np.array([\n",
    "    # sample data for reshaping the array\n",
    "    29.3, 42.1, 18.8, 16.1, 38.0, 12.5,\n",
    "   12.6, 49.9, 38.6, 31.3, 9.2, 22.2\n",
    "]).reshape(2,2,3)"
   ]
  },
  {
   "cell_type": "code",
   "execution_count": 7,
   "id": "d6a09687",
   "metadata": {},
   "outputs": [
    {
     "data": {
      "text/plain": [
       "(2, 2, 3)"
      ]
     },
     "execution_count": 7,
     "metadata": {},
     "output_type": "execute_result"
    }
   ],
   "source": [
    "temperatures.shape # printing the shape of array."
   ]
  },
  {
   "cell_type": "code",
   "execution_count": 8,
   "id": "3da5dfbe",
   "metadata": {},
   "outputs": [
    {
     "data": {
      "text/plain": [
       "array([[[29.3, 42.1, 18.8],\n",
       "        [16.1, 38. , 12.5]],\n",
       "\n",
       "       [[12.6, 49.9, 38.6],\n",
       "        [31.3,  9.2, 22.2]]])"
      ]
     },
     "execution_count": 8,
     "metadata": {},
     "output_type": "execute_result"
    }
   ],
   "source": [
    "temperatures"
   ]
  },
  {
   "cell_type": "code",
   "execution_count": 9,
   "id": "d50fc47d",
   "metadata": {},
   "outputs": [
    {
     "data": {
      "text/plain": [
       "array([[[29.3, 16.1],\n",
       "        [42.1, 38. ],\n",
       "        [18.8, 12.5]],\n",
       "\n",
       "       [[12.6, 31.3],\n",
       "        [49.9,  9.2],\n",
       "        [38.6, 22.2]]])"
      ]
     },
     "execution_count": 9,
     "metadata": {},
     "output_type": "execute_result"
    }
   ],
   "source": [
    "np.swapaxes(temperatures, 1, 2) # transpose"
   ]
  },
  {
   "cell_type": "markdown",
   "id": "07c1bd95",
   "metadata": {},
   "source": [
    "### Broadcasting "
   ]
  },
  {
   "cell_type": "code",
   "execution_count": 10,
   "id": "a989cc96",
   "metadata": {},
   "outputs": [],
   "source": [
    "table = np.array([\n",
    "    [5, 3, 7, 1],\n",
    "    [2, 6, 7 ,9],\n",
    "    [1, 1, 1, 1],\n",
    "    [4, 3, 2, 0],\n",
    "])"
   ]
  },
  {
   "cell_type": "markdown",
   "id": "7545dd7a",
   "metadata": {},
   "source": [
    "By default `.max()` returns the greatest value in the array no matter how many dimesnions are there.\n",
    "However if you specify the axis it'll do the calculations for the elements lying on that axis.\n",
    "\n",
    "For example, with an argument of axis=0, `.max()`selects the maximum value in each of the four vertical sets of values in table and returns an array that has been **flattened**, or aggregated into a one-dimensional array."
   ]
  },
  {
   "cell_type": "code",
   "execution_count": 11,
   "id": "67f8326e",
   "metadata": {},
   "outputs": [
    {
     "data": {
      "text/plain": [
       "9"
      ]
     },
     "execution_count": 11,
     "metadata": {},
     "output_type": "execute_result"
    }
   ],
   "source": [
    "table.max()"
   ]
  },
  {
   "cell_type": "code",
   "execution_count": 12,
   "id": "6ed58126",
   "metadata": {},
   "outputs": [
    {
     "data": {
      "text/plain": [
       "array([5, 6, 7, 9])"
      ]
     },
     "execution_count": 12,
     "metadata": {},
     "output_type": "execute_result"
    }
   ],
   "source": [
    "table.max(axis=0)"
   ]
  },
  {
   "cell_type": "code",
   "execution_count": 13,
   "id": "f2243e6a",
   "metadata": {},
   "outputs": [
    {
     "data": {
      "text/plain": [
       "array([7, 9, 1, 4])"
      ]
     },
     "execution_count": 13,
     "metadata": {},
     "output_type": "execute_result"
    }
   ],
   "source": [
    "table.max(axis=1)"
   ]
  },
  {
   "cell_type": "code",
   "execution_count": 14,
   "id": "ee6432f2",
   "metadata": {},
   "outputs": [],
   "source": [
    "A = np.arange(32).reshape(4,1,8)"
   ]
  },
  {
   "cell_type": "markdown",
   "id": "57a0dc99",
   "metadata": {},
   "source": [
    "`A` has 4 planes with 1 row and 8 columns."
   ]
  },
  {
   "cell_type": "markdown",
   "id": "bb3a5203",
   "metadata": {},
   "source": [
    "The number of elements in A can be calculated as \n",
    "$4×1×8$ = 32"
   ]
  },
  {
   "cell_type": "code",
   "execution_count": 16,
   "id": "a9579588",
   "metadata": {},
   "outputs": [
    {
     "data": {
      "text/plain": [
       "array([[[ 0,  1,  2,  3,  4,  5,  6,  7]],\n",
       "\n",
       "       [[ 8,  9, 10, 11, 12, 13, 14, 15]],\n",
       "\n",
       "       [[16, 17, 18, 19, 20, 21, 22, 23]],\n",
       "\n",
       "       [[24, 25, 26, 27, 28, 29, 30, 31]]])"
      ]
     },
     "execution_count": 16,
     "metadata": {},
     "output_type": "execute_result"
    }
   ],
   "source": [
    "A"
   ]
  },
  {
   "cell_type": "code",
   "execution_count": 17,
   "id": "80d80b18",
   "metadata": {},
   "outputs": [],
   "source": [
    "B = np.arange(48).reshape(1,6,8)"
   ]
  },
  {
   "cell_type": "markdown",
   "id": "b0450499",
   "metadata": {},
   "source": [
    "`B` has 4 planes with 6 rows and 8 columns.\n",
    "The number of elements in `B` can be calculated as \n",
    "$1×6×8$ = 48"
   ]
  },
  {
   "cell_type": "code",
   "execution_count": 18,
   "id": "6b568bfd",
   "metadata": {},
   "outputs": [
    {
     "data": {
      "text/plain": [
       "array([[[ 0,  1,  2,  3,  4,  5,  6,  7],\n",
       "        [ 8,  9, 10, 11, 12, 13, 14, 15],\n",
       "        [16, 17, 18, 19, 20, 21, 22, 23],\n",
       "        [24, 25, 26, 27, 28, 29, 30, 31],\n",
       "        [32, 33, 34, 35, 36, 37, 38, 39],\n",
       "        [40, 41, 42, 43, 44, 45, 46, 47]]])"
      ]
     },
     "execution_count": 18,
     "metadata": {},
     "output_type": "execute_result"
    }
   ],
   "source": [
    "B"
   ]
  },
  {
   "cell_type": "code",
   "execution_count": 20,
   "id": "25a3bd53",
   "metadata": {},
   "outputs": [
    {
     "data": {
      "text/plain": [
       "array([[[ 0,  2,  4,  6,  8, 10, 12, 14],\n",
       "        [ 8, 10, 12, 14, 16, 18, 20, 22],\n",
       "        [16, 18, 20, 22, 24, 26, 28, 30],\n",
       "        [24, 26, 28, 30, 32, 34, 36, 38],\n",
       "        [32, 34, 36, 38, 40, 42, 44, 46],\n",
       "        [40, 42, 44, 46, 48, 50, 52, 54]],\n",
       "\n",
       "       [[ 8, 10, 12, 14, 16, 18, 20, 22],\n",
       "        [16, 18, 20, 22, 24, 26, 28, 30],\n",
       "        [24, 26, 28, 30, 32, 34, 36, 38],\n",
       "        [32, 34, 36, 38, 40, 42, 44, 46],\n",
       "        [40, 42, 44, 46, 48, 50, 52, 54],\n",
       "        [48, 50, 52, 54, 56, 58, 60, 62]],\n",
       "\n",
       "       [[16, 18, 20, 22, 24, 26, 28, 30],\n",
       "        [24, 26, 28, 30, 32, 34, 36, 38],\n",
       "        [32, 34, 36, 38, 40, 42, 44, 46],\n",
       "        [40, 42, 44, 46, 48, 50, 52, 54],\n",
       "        [48, 50, 52, 54, 56, 58, 60, 62],\n",
       "        [56, 58, 60, 62, 64, 66, 68, 70]],\n",
       "\n",
       "       [[24, 26, 28, 30, 32, 34, 36, 38],\n",
       "        [32, 34, 36, 38, 40, 42, 44, 46],\n",
       "        [40, 42, 44, 46, 48, 50, 52, 54],\n",
       "        [48, 50, 52, 54, 56, 58, 60, 62],\n",
       "        [56, 58, 60, 62, 64, 66, 68, 70],\n",
       "        [64, 66, 68, 70, 72, 74, 76, 78]]])"
      ]
     },
     "execution_count": 20,
     "metadata": {},
     "output_type": "execute_result"
    }
   ],
   "source": [
    "A + B # adding both arrays"
   ]
  },
  {
   "cell_type": "markdown",
   "id": "bae1231a",
   "metadata": {},
   "source": [
    "The way broadcasting works is that NumPy duplicates the plane in B three times so that you have a total of four, matching the number of planes in A. It also duplicates the single row in A five times for a total of six, matching the number of rows in B. Then it adds each element in the newly expanded A array to its counterpart in the same location in B. The result of each calculation shows up in the corresponding location of the output."
   ]
  },
  {
   "cell_type": "markdown",
   "id": "0781febb",
   "metadata": {},
   "source": [
    "### Data Science Operations "
   ]
  },
  {
   "cell_type": "code",
   "execution_count": null,
   "id": "fa525659",
   "metadata": {},
   "outputs": [],
   "source": []
  }
 ],
 "metadata": {
  "kernelspec": {
   "display_name": "Python 3 (ipykernel)",
   "language": "python",
   "name": "python3"
  },
  "language_info": {
   "codemirror_mode": {
    "name": "ipython",
    "version": 3
   },
   "file_extension": ".py",
   "mimetype": "text/x-python",
   "name": "python",
   "nbconvert_exporter": "python",
   "pygments_lexer": "ipython3",
   "version": "3.10.5"
  }
 },
 "nbformat": 4,
 "nbformat_minor": 5
}
