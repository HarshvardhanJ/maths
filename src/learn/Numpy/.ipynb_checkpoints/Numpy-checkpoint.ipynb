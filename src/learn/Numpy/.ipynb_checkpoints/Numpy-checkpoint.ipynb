{
 "cells": [
  {
   "cell_type": "markdown",
   "id": "6a5c3d2f",
   "metadata": {},
   "source": [
    "## Learning Numpy"
   ]
  },
  {
   "cell_type": "code",
   "execution_count": 1,
   "id": "2601e35b",
   "metadata": {},
   "outputs": [],
   "source": [
    "import numpy as np # importing numpy"
   ]
  },
  {
   "cell_type": "markdown",
   "id": "b5d784f3",
   "metadata": {},
   "source": [
    "### Getting in shape"
   ]
  },
  {
   "cell_type": "code",
   "execution_count": 2,
   "id": "3ebe51f8",
   "metadata": {},
   "outputs": [],
   "source": [
    "temperatures = np.array([\n",
    "    # sample data for reshaping the array\n",
    "    29.3, 42.1, 18.8, 16.1, 38.0, 12.5,\n",
    "   12.6, 49.9, 38.6, 31.3, 9.2, 22.2\n",
    "]).reshape(2,2,3)"
   ]
  },
  {
   "cell_type": "code",
   "execution_count": 3,
   "id": "d6a09687",
   "metadata": {},
   "outputs": [
    {
     "data": {
      "text/plain": [
       "(2, 2, 3)"
      ]
     },
     "execution_count": 3,
     "metadata": {},
     "output_type": "execute_result"
    }
   ],
   "source": [
    "temperatures.shape # printing the shape of array."
   ]
  },
  {
   "cell_type": "code",
   "execution_count": 4,
   "id": "3da5dfbe",
   "metadata": {},
   "outputs": [
    {
     "data": {
      "text/plain": [
       "array([[[29.3, 42.1, 18.8],\n",
       "        [16.1, 38. , 12.5]],\n",
       "\n",
       "       [[12.6, 49.9, 38.6],\n",
       "        [31.3,  9.2, 22.2]]])"
      ]
     },
     "execution_count": 4,
     "metadata": {},
     "output_type": "execute_result"
    }
   ],
   "source": [
    "temperatures"
   ]
  },
  {
   "cell_type": "code",
   "execution_count": 5,
   "id": "d50fc47d",
   "metadata": {},
   "outputs": [
    {
     "data": {
      "text/plain": [
       "array([[[29.3, 16.1],\n",
       "        [42.1, 38. ],\n",
       "        [18.8, 12.5]],\n",
       "\n",
       "       [[12.6, 31.3],\n",
       "        [49.9,  9.2],\n",
       "        [38.6, 22.2]]])"
      ]
     },
     "execution_count": 5,
     "metadata": {},
     "output_type": "execute_result"
    }
   ],
   "source": [
    "np.swapaxes(temperatures, 1, 2) # transpose"
   ]
  },
  {
   "cell_type": "markdown",
   "id": "07c1bd95",
   "metadata": {},
   "source": [
    "### Broadcasting "
   ]
  },
  {
   "cell_type": "code",
   "execution_count": 6,
   "id": "a989cc96",
   "metadata": {},
   "outputs": [],
   "source": [
    "table = np.array([\n",
    "    [5, 3, 7, 1],\n",
    "    [2, 6, 7 ,9],\n",
    "    [1, 1, 1, 1],\n",
    "    [4, 3, 2, 0],\n",
    "])"
   ]
  },
  {
   "cell_type": "markdown",
   "id": "7545dd7a",
   "metadata": {},
   "source": [
    "By default `.max()` returns the greatest value in the array no matter how many dimesnions are there.\n",
    "However if you specify the axis it'll do the calculations for the elements lying on that axis.\n",
    "\n",
    "For example, with an argument of axis=0, `.max()`selects the maximum value in each of the four vertical sets of values in table and returns an array that has been **flattened**, or aggregated into a one-dimensional array."
   ]
  },
  {
   "cell_type": "code",
   "execution_count": 7,
   "id": "67f8326e",
   "metadata": {},
   "outputs": [
    {
     "data": {
      "text/plain": [
       "9"
      ]
     },
     "execution_count": 7,
     "metadata": {},
     "output_type": "execute_result"
    }
   ],
   "source": [
    "table.max()"
   ]
  },
  {
   "cell_type": "code",
   "execution_count": 8,
   "id": "6ed58126",
   "metadata": {},
   "outputs": [
    {
     "data": {
      "text/plain": [
       "array([5, 6, 7, 9])"
      ]
     },
     "execution_count": 8,
     "metadata": {},
     "output_type": "execute_result"
    }
   ],
   "source": [
    "table.max(axis=0)"
   ]
  },
  {
   "cell_type": "code",
   "execution_count": 9,
   "id": "f2243e6a",
   "metadata": {},
   "outputs": [
    {
     "data": {
      "text/plain": [
       "array([7, 9, 1, 4])"
      ]
     },
     "execution_count": 9,
     "metadata": {},
     "output_type": "execute_result"
    }
   ],
   "source": [
    "table.max(axis=1)"
   ]
  },
  {
   "cell_type": "code",
   "execution_count": 10,
   "id": "ee6432f2",
   "metadata": {},
   "outputs": [],
   "source": [
    "A = np.arange(32).reshape(4,1,8)"
   ]
  },
  {
   "cell_type": "markdown",
   "id": "57a0dc99",
   "metadata": {},
   "source": [
    "`A` has 4 planes with 1 row and 8 columns."
   ]
  },
  {
   "cell_type": "markdown",
   "id": "bb3a5203",
   "metadata": {},
   "source": [
    "The number of elements in A can be calculated as \n",
    "$4×1×8$ = 32"
   ]
  },
  {
   "cell_type": "code",
   "execution_count": 11,
   "id": "a9579588",
   "metadata": {},
   "outputs": [
    {
     "data": {
      "text/plain": [
       "array([[[ 0,  1,  2,  3,  4,  5,  6,  7]],\n",
       "\n",
       "       [[ 8,  9, 10, 11, 12, 13, 14, 15]],\n",
       "\n",
       "       [[16, 17, 18, 19, 20, 21, 22, 23]],\n",
       "\n",
       "       [[24, 25, 26, 27, 28, 29, 30, 31]]])"
      ]
     },
     "execution_count": 11,
     "metadata": {},
     "output_type": "execute_result"
    }
   ],
   "source": [
    "A"
   ]
  },
  {
   "cell_type": "code",
   "execution_count": 12,
   "id": "80d80b18",
   "metadata": {},
   "outputs": [],
   "source": [
    "B = np.arange(48).reshape(1,6,8)"
   ]
  },
  {
   "cell_type": "markdown",
   "id": "b0450499",
   "metadata": {},
   "source": [
    "`B` has 4 planes with 6 rows and 8 columns.\n",
    "The number of elements in `B` can be calculated as \n",
    "$1×6×8$ = 48"
   ]
  },
  {
   "cell_type": "code",
   "execution_count": 13,
   "id": "6b568bfd",
   "metadata": {},
   "outputs": [
    {
     "data": {
      "text/plain": [
       "array([[[ 0,  1,  2,  3,  4,  5,  6,  7],\n",
       "        [ 8,  9, 10, 11, 12, 13, 14, 15],\n",
       "        [16, 17, 18, 19, 20, 21, 22, 23],\n",
       "        [24, 25, 26, 27, 28, 29, 30, 31],\n",
       "        [32, 33, 34, 35, 36, 37, 38, 39],\n",
       "        [40, 41, 42, 43, 44, 45, 46, 47]]])"
      ]
     },
     "execution_count": 13,
     "metadata": {},
     "output_type": "execute_result"
    }
   ],
   "source": [
    "B"
   ]
  },
  {
   "cell_type": "code",
   "execution_count": 14,
   "id": "25a3bd53",
   "metadata": {},
   "outputs": [
    {
     "data": {
      "text/plain": [
       "array([[[ 0,  2,  4,  6,  8, 10, 12, 14],\n",
       "        [ 8, 10, 12, 14, 16, 18, 20, 22],\n",
       "        [16, 18, 20, 22, 24, 26, 28, 30],\n",
       "        [24, 26, 28, 30, 32, 34, 36, 38],\n",
       "        [32, 34, 36, 38, 40, 42, 44, 46],\n",
       "        [40, 42, 44, 46, 48, 50, 52, 54]],\n",
       "\n",
       "       [[ 8, 10, 12, 14, 16, 18, 20, 22],\n",
       "        [16, 18, 20, 22, 24, 26, 28, 30],\n",
       "        [24, 26, 28, 30, 32, 34, 36, 38],\n",
       "        [32, 34, 36, 38, 40, 42, 44, 46],\n",
       "        [40, 42, 44, 46, 48, 50, 52, 54],\n",
       "        [48, 50, 52, 54, 56, 58, 60, 62]],\n",
       "\n",
       "       [[16, 18, 20, 22, 24, 26, 28, 30],\n",
       "        [24, 26, 28, 30, 32, 34, 36, 38],\n",
       "        [32, 34, 36, 38, 40, 42, 44, 46],\n",
       "        [40, 42, 44, 46, 48, 50, 52, 54],\n",
       "        [48, 50, 52, 54, 56, 58, 60, 62],\n",
       "        [56, 58, 60, 62, 64, 66, 68, 70]],\n",
       "\n",
       "       [[24, 26, 28, 30, 32, 34, 36, 38],\n",
       "        [32, 34, 36, 38, 40, 42, 44, 46],\n",
       "        [40, 42, 44, 46, 48, 50, 52, 54],\n",
       "        [48, 50, 52, 54, 56, 58, 60, 62],\n",
       "        [56, 58, 60, 62, 64, 66, 68, 70],\n",
       "        [64, 66, 68, 70, 72, 74, 76, 78]]])"
      ]
     },
     "execution_count": 14,
     "metadata": {},
     "output_type": "execute_result"
    }
   ],
   "source": [
    "A + B # adding both arrays"
   ]
  },
  {
   "cell_type": "markdown",
   "id": "bae1231a",
   "metadata": {},
   "source": [
    "The way broadcasting works is that NumPy duplicates the plane in B three times so that you have a total of four, matching the number of planes in A. It also duplicates the single row in A five times for a total of six, matching the number of rows in B. Then it adds each element in the newly expanded A array to its counterpart in the same location in B. The result of each calculation shows up in the corresponding location of the output."
   ]
  },
  {
   "cell_type": "markdown",
   "id": "0781febb",
   "metadata": {},
   "source": [
    "### Data Science Operations "
   ]
  },
  {
   "cell_type": "markdown",
   "id": "1db2cf8b",
   "metadata": {},
   "source": [
    "#### Indexing"
   ]
  },
  {
   "cell_type": "code",
   "execution_count": 15,
   "id": "c6fa11f1",
   "metadata": {},
   "outputs": [],
   "source": [
    "square = np.array([\n",
    "    [16, 3, 2, 13],\n",
    "    [5, 10, 11, 8],\n",
    "    [9, 6, 7, 12],\n",
    "    [4, 15, 14, 1]\n",
    "])"
   ]
  },
  {
   "cell_type": "code",
   "execution_count": 16,
   "id": "2a06734d",
   "metadata": {},
   "outputs": [],
   "source": [
    "for i in range(4):\n",
    "    assert square[:, i].sum() == 34\n",
    "    assert square[i, :].sum() == 34"
   ]
  },
  {
   "cell_type": "code",
   "execution_count": 17,
   "id": "ed896f90",
   "metadata": {},
   "outputs": [],
   "source": [
    "assert square[:2, :2].sum() == 34\n",
    "assert square[:2, 2:].sum() == 34\n",
    "assert square[:2, :2].sum() == 34\n",
    "assert square[2:, 2:].sum() == 34"
   ]
  },
  {
   "cell_type": "markdown",
   "id": "39c87a8d",
   "metadata": {},
   "source": [
    "#### Masking"
   ]
  },
  {
   "cell_type": "code",
   "execution_count": 18,
   "id": "d41f4b7c",
   "metadata": {},
   "outputs": [],
   "source": [
    "numbers = np.linspace(\n",
    "    5, 50, 24, dtype=int).reshape(4, -1)"
   ]
  },
  {
   "cell_type": "code",
   "execution_count": 19,
   "id": "1f05eb60",
   "metadata": {},
   "outputs": [
    {
     "data": {
      "text/plain": [
       "array([[ 5,  6,  8, 10, 12, 14],\n",
       "       [16, 18, 20, 22, 24, 26],\n",
       "       [28, 30, 32, 34, 36, 38],\n",
       "       [40, 42, 44, 46, 48, 50]])"
      ]
     },
     "execution_count": 19,
     "metadata": {},
     "output_type": "execute_result"
    }
   ],
   "source": [
    "numbers"
   ]
  },
  {
   "cell_type": "code",
   "execution_count": 20,
   "id": "74d5c294",
   "metadata": {},
   "outputs": [],
   "source": [
    "mask = numbers % 4 == 0"
   ]
  },
  {
   "cell_type": "code",
   "execution_count": 21,
   "id": "f9b4e1d8",
   "metadata": {},
   "outputs": [
    {
     "data": {
      "text/plain": [
       "array([[False, False,  True, False,  True, False],\n",
       "       [ True, False,  True, False,  True, False],\n",
       "       [ True, False,  True, False,  True, False],\n",
       "       [ True, False,  True, False,  True, False]])"
      ]
     },
     "execution_count": 21,
     "metadata": {},
     "output_type": "execute_result"
    }
   ],
   "source": [
    "mask"
   ]
  },
  {
   "cell_type": "code",
   "execution_count": 22,
   "id": "80245a32",
   "metadata": {},
   "outputs": [
    {
     "data": {
      "text/plain": [
       "array([ 8, 12, 16, 20, 24, 28, 32, 36, 40, 44, 48])"
      ]
     },
     "execution_count": 22,
     "metadata": {},
     "output_type": "execute_result"
    }
   ],
   "source": [
    "numbers[mask]"
   ]
  },
  {
   "cell_type": "code",
   "execution_count": 23,
   "id": "44c3f70d",
   "metadata": {},
   "outputs": [],
   "source": [
    "# alternate one liner \n",
    "by_four = numbers[numbers % 4 == 0]"
   ]
  },
  {
   "cell_type": "code",
   "execution_count": 24,
   "id": "19e9204e",
   "metadata": {},
   "outputs": [
    {
     "data": {
      "text/plain": [
       "array([ 8, 12, 16, 20, 24, 28, 32, 36, 40, 44, 48])"
      ]
     },
     "execution_count": 24,
     "metadata": {},
     "output_type": "execute_result"
    }
   ],
   "source": [
    "by_four"
   ]
  },
  {
   "cell_type": "markdown",
   "id": "cccc10cc",
   "metadata": {},
   "source": [
    "[Normal distribution](https://en.wikipedia.org/wiki/Normal_distribution)"
   ]
  },
  {
   "cell_type": "code",
   "execution_count": 25,
   "id": "2abd71a8",
   "metadata": {},
   "outputs": [],
   "source": [
    "from numpy.random import default_rng "
   ]
  },
  {
   "cell_type": "code",
   "execution_count": 26,
   "id": "ce01bbf1",
   "metadata": {},
   "outputs": [],
   "source": [
    "rng = default_rng()"
   ]
  },
  {
   "cell_type": "code",
   "execution_count": 27,
   "id": "e275bd47",
   "metadata": {},
   "outputs": [],
   "source": [
    "values = rng.standard_normal(10000)"
   ]
  },
  {
   "cell_type": "code",
   "execution_count": 28,
   "id": "74db2fe2",
   "metadata": {},
   "outputs": [
    {
     "data": {
      "text/plain": [
       "array([ 1.59598261,  1.75304294, -1.10507866, -0.64407664, -0.44981403])"
      ]
     },
     "execution_count": 28,
     "metadata": {},
     "output_type": "execute_result"
    }
   ],
   "source": [
    "values[:5]"
   ]
  },
  {
   "cell_type": "code",
   "execution_count": 29,
   "id": "1cd96372",
   "metadata": {},
   "outputs": [],
   "source": [
    "std = values.std()"
   ]
  },
  {
   "cell_type": "code",
   "execution_count": 30,
   "id": "f0dbaed5",
   "metadata": {},
   "outputs": [
    {
     "data": {
      "text/plain": [
       "1.006274644390239"
      ]
     },
     "execution_count": 30,
     "metadata": {},
     "output_type": "execute_result"
    }
   ],
   "source": [
    "std"
   ]
  },
  {
   "cell_type": "code",
   "execution_count": 31,
   "id": "0056d556",
   "metadata": {},
   "outputs": [],
   "source": [
    "mask = (values > -2 * std) & (values < 2 * std)"
   ]
  },
  {
   "cell_type": "code",
   "execution_count": 32,
   "id": "a6f16307",
   "metadata": {},
   "outputs": [],
   "source": [
    "filtered = values[mask]"
   ]
  },
  {
   "cell_type": "code",
   "execution_count": 33,
   "id": "764a9f41",
   "metadata": {},
   "outputs": [
    {
     "data": {
      "text/plain": [
       "9565"
      ]
     },
     "execution_count": 33,
     "metadata": {},
     "output_type": "execute_result"
    }
   ],
   "source": [
    "filtered.size"
   ]
  },
  {
   "cell_type": "code",
   "execution_count": 34,
   "id": "a80a2848",
   "metadata": {},
   "outputs": [
    {
     "data": {
      "text/plain": [
       "10000"
      ]
     },
     "execution_count": 34,
     "metadata": {},
     "output_type": "execute_result"
    }
   ],
   "source": [
    "values.size"
   ]
  },
  {
   "cell_type": "code",
   "execution_count": 35,
   "id": "80d9da13",
   "metadata": {},
   "outputs": [
    {
     "data": {
      "text/plain": [
       "95.65"
      ]
     },
     "execution_count": 35,
     "metadata": {},
     "output_type": "execute_result"
    }
   ],
   "source": [
    "(filtered.size / values.size) * 100"
   ]
  },
  {
   "cell_type": "markdown",
   "id": "eb2b6f12",
   "metadata": {},
   "source": [
    "#### Transposition "
   ]
  },
  {
   "cell_type": "code",
   "execution_count": null,
   "id": "60f024d9",
   "metadata": {},
   "outputs": [],
   "source": []
  }
 ],
 "metadata": {
  "kernelspec": {
   "display_name": "Python 3 (ipykernel)",
   "language": "python",
   "name": "python3"
  },
  "language_info": {
   "codemirror_mode": {
    "name": "ipython",
    "version": 3
   },
   "file_extension": ".py",
   "mimetype": "text/x-python",
   "name": "python",
   "nbconvert_exporter": "python",
   "pygments_lexer": "ipython3",
   "version": "3.10.5"
  }
 },
 "nbformat": 4,
 "nbformat_minor": 5
}
